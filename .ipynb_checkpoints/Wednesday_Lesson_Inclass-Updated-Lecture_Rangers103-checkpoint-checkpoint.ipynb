{
 "cells": [
  {
   "cell_type": "markdown",
   "metadata": {},
   "source": [
    "# Dictionaries, Sets, & Importing Modules"
   ]
  },
  {
   "cell_type": "markdown",
   "metadata": {},
   "source": [
    "## Tasks Today:\n",
    "\n",
    "1) Dictionary <br>\n",
    " &nbsp;&nbsp;&nbsp;&nbsp; a) Declaring (key, value) <br>\n",
    " &nbsp;&nbsp;&nbsp;&nbsp; b) Accessing Values <br>\n",
    " &nbsp;&nbsp;&nbsp;&nbsp; ------ Exercise #1 - Print the eye color of each person in a double nested dict <br>\n",
    " &nbsp;&nbsp;&nbsp;&nbsp; c) Adding New Pairs <br>\n",
    " &nbsp;&nbsp;&nbsp;&nbsp; d) Modifying Values <br>\n",
    " &nbsp;&nbsp;&nbsp;&nbsp; e) Removing Key, Value Pairs <br>\n",
    " &nbsp;&nbsp;&nbsp;&nbsp; f) Looping a Dictionary <br>\n",
    " &nbsp;&nbsp;&nbsp;&nbsp; g) Looping Only Keys <br>\n",
    " &nbsp;&nbsp;&nbsp;&nbsp; h) Looping Only Values <br>\n",
    " &nbsp;&nbsp;&nbsp;&nbsp; ------ Exercise #2 - Create a Function that Prints All Key Value Pairs within a print .format()  <br>\n",
    " &nbsp;&nbsp;&nbsp;&nbsp; i) sorted() <br>\n",
    " &nbsp;&nbsp;&nbsp;&nbsp; j) Lists with Dictionaries <br>\n",
    " &nbsp;&nbsp;&nbsp;&nbsp; k) Dictionaries with Lists <br>\n",
    " &nbsp;&nbsp;&nbsp;&nbsp; l) Dictionaries with Dictionaries <br>\n",
    " &nbsp;&nbsp;&nbsp;&nbsp; ------ Exercise #3 - Write a Function that asks someone's name and address, and then stores that into a dictionary, which prints all names and addresses after they're done putting information in...  <br>\n",
    "2) Dictionaries vs. Lists (over time)<br>\n",
    "3) Set <br>\n",
    " &nbsp;&nbsp;&nbsp;&nbsp; a) Declaring <br>\n",
    " &nbsp;&nbsp;&nbsp;&nbsp; b) .add() <br>\n",
    " &nbsp;&nbsp;&nbsp;&nbsp; c) .remove() <br>\n",
    " &nbsp;&nbsp;&nbsp;&nbsp; d) .union() <br>\n",
    " &nbsp;&nbsp;&nbsp;&nbsp; e) .intersection() <br>\n",
    " &nbsp;&nbsp;&nbsp;&nbsp; f) .difference() <br>\n",
    " &nbsp;&nbsp;&nbsp;&nbsp; g) Frozen Set <br>\n",
    "4) Modules <br>\n",
    " &nbsp;&nbsp;&nbsp;&nbsp; a) Importing Entire Modules <br>\n",
    " &nbsp;&nbsp;&nbsp;&nbsp; b) Importing Methods Only <br>\n",
    " &nbsp;&nbsp;&nbsp;&nbsp; c) Using the 'as' Keyword <br>\n",
    " &nbsp;&nbsp;&nbsp;&nbsp; d) Creating a Module <br>\n",
    "5) Exercises <br>\n",
    " &nbsp;&nbsp;&nbsp;&nbsp; a) Build a Shopping Cart <br>\n",
    " &nbsp;&nbsp;&nbsp;&nbsp; b) Create Your Own Module <br>"
   ]
  },
  {
   "cell_type": "markdown",
   "metadata": {},
   "source": [
    "## Dictionary <br>\n",
    "<p>A collection of data with 'key:value' pairs. Dictionaries are ordered as of Python 3.6</p>"
   ]
  },
  {
   "cell_type": "markdown",
   "metadata": {},
   "source": [
    "##### Declaring (key, value)"
   ]
  },
  {
   "cell_type": "code",
   "execution_count": 4,
   "metadata": {},
   "outputs": [],
   "source": [
    "# keys should be unique\n",
    "# can use numbers or strings as keys\n",
    "d_1 = {}\n",
    "\n",
    "# or\n",
    "d_2 = dict()\n",
    "\n",
    "# or\n",
    "d_3 = {\n",
    "    \"Tom\": \"255 Main Street\",\n",
    "    \"Jerry\": \"257 Main Street\",\n",
    "    \"Spike\": \"253 Main Street\",\n",
    "    0: \"This is a value of 0 for the key of 0\"\n",
    "    \n",
    "}"
   ]
  },
  {
   "cell_type": "markdown",
   "metadata": {},
   "source": [
    "##### Accessing Values"
   ]
  },
  {
   "cell_type": "code",
   "execution_count": 5,
   "metadata": {},
   "outputs": [
    {
     "name": "stdout",
     "output_type": "stream",
     "text": [
      "255 Main Street\n"
     ]
    }
   ],
   "source": [
    "# dict[key]\n",
    "print(d_3[\"Tom\"])\n"
   ]
  },
  {
   "cell_type": "markdown",
   "metadata": {},
   "source": [
    "## In-Class Exercise #1 - Print a formatted statement from the dictionary below <br>\n",
    "<p>The output should be '2018 Chevrolet Silverado'</p>"
   ]
  },
  {
   "cell_type": "code",
   "execution_count": 15,
   "metadata": {},
   "outputs": [
    {
     "name": "stdout",
     "output_type": "stream",
     "text": [
      "2018 Chevrolet Silverado\n"
     ]
    }
   ],
   "source": [
    "# use the dict below\n",
    "truck = {\n",
    "    \"year\": 2018,\n",
    "    'make': 'Chevrolet',\n",
    "    'model': 'Silverado'\n",
    "}\n",
    "\n",
    "print (f\"{truck['year']} {truck['make']} {truck['model']}\")"
   ]
  },
  {
   "cell_type": "markdown",
   "metadata": {},
   "source": [
    "##### Adding New Pairs"
   ]
  },
  {
   "cell_type": "code",
   "execution_count": 4,
   "metadata": {},
   "outputs": [],
   "source": [
    "# dict[key] = value\n"
   ]
  },
  {
   "cell_type": "markdown",
   "metadata": {},
   "source": [
    "##### Modifying Values"
   ]
  },
  {
   "cell_type": "code",
   "execution_count": 5,
   "metadata": {},
   "outputs": [],
   "source": [
    "# dict[key] = value\n"
   ]
  },
  {
   "cell_type": "markdown",
   "metadata": {},
   "source": [
    "##### Removing Key, Value Pairs"
   ]
  },
  {
   "cell_type": "code",
   "execution_count": 6,
   "metadata": {},
   "outputs": [],
   "source": [
    "# del dict[key]\n",
    "\n"
   ]
  },
  {
   "cell_type": "markdown",
   "metadata": {},
   "source": [
    "##### Looping a Dictionary"
   ]
  },
  {
   "cell_type": "code",
   "execution_count": 7,
   "metadata": {},
   "outputs": [],
   "source": [
    "# .items()\n",
    "# a, b, c = 1, 2, 3\n"
   ]
  },
  {
   "cell_type": "markdown",
   "metadata": {},
   "source": [
    "##### Looping Only Keys"
   ]
  },
  {
   "cell_type": "code",
   "execution_count": 8,
   "metadata": {},
   "outputs": [],
   "source": [
    "# .keys()\n"
   ]
  },
  {
   "cell_type": "markdown",
   "metadata": {},
   "source": [
    "##### Looping Only Values"
   ]
  },
  {
   "cell_type": "code",
   "execution_count": null,
   "metadata": {},
   "outputs": [],
   "source": []
  },
  {
   "cell_type": "code",
   "execution_count": null,
   "metadata": {
    "scrolled": false
   },
   "outputs": [],
   "source": []
  },
  {
   "cell_type": "code",
   "execution_count": 9,
   "metadata": {
    "scrolled": true
   },
   "outputs": [],
   "source": [
    "# .values()\n"
   ]
  },
  {
   "cell_type": "markdown",
   "metadata": {},
   "source": [
    "## In-Class Exercise #2 - Create a Function that Prints All Key Value Pairs within a print .format() <br>\n",
    "<p><b>Output should be:</b><br>\n",
    "Max has blue eyes<br>\n",
    "Lilly has brown eyes<br>\n",
    "Barney has blue eyes<br>\n",
    "etc.\n",
    "</p>"
   ]
  },
  {
   "cell_type": "code",
   "execution_count": 37,
   "metadata": {},
   "outputs": [
    {
     "name": "stdout",
     "output_type": "stream",
     "text": [
      "Max: blue eyes\n",
      "Lilly: brown eyes\n",
      "Barney: Sharingan\n"
     ]
    }
   ],
   "source": [
    "# use the dict below\n",
    "eye_balls = {\n",
    "       \"Max\": \"blue eyes\",\n",
    "       \"Lilly\": \"brown eyes\",\n",
    "       \"Barney\": \"Sharingan\"\n",
    "}\n",
    "def eyeball(myDict):\n",
    "    for key, value in myDict.items():\n",
    "        print(\"{}: {}\".format(key, value))\n",
    "        \n",
    "eyeball(eye_balls)"
   ]
  },
  {
   "cell_type": "markdown",
   "metadata": {},
   "source": [
    "##### sorted()"
   ]
  },
  {
   "cell_type": "code",
   "execution_count": 11,
   "metadata": {},
   "outputs": [],
   "source": [
    "# sorts variables in order\n",
    "# sorted(dict.values()) or dict.keys() or dict.items()\n"
   ]
  },
  {
   "cell_type": "markdown",
   "metadata": {},
   "source": [
    "##### List with Dictionaries"
   ]
  },
  {
   "cell_type": "code",
   "execution_count": null,
   "metadata": {},
   "outputs": [],
   "source": []
  },
  {
   "cell_type": "markdown",
   "metadata": {},
   "source": [
    "##### Dictionaries with Lists"
   ]
  },
  {
   "cell_type": "code",
   "execution_count": 12,
   "metadata": {},
   "outputs": [],
   "source": [
    "# be careful when using numbers as keys in dictionaries, don't confuse them with indexes\n",
    "\n"
   ]
  },
  {
   "cell_type": "markdown",
   "metadata": {},
   "source": [
    "##### Dictionaries with Dictionaries"
   ]
  },
  {
   "cell_type": "code",
   "execution_count": 47,
   "metadata": {},
   "outputs": [],
   "source": [
    "# to get values, must traverse through keys\n",
    "\n",
    "food_dict = {\n",
    "    \"Ryan\": {\n",
    "        \"desserts\": [\"Pie\", \"chocolate chip cookes\", \"ice cream\", \"muffins\"],\n",
    "        \"noodles\": [\"Ramen\", \"Pho\", \"Shells\"],\n",
    "        \"hispanic\": [\"Tacos\", \"Tacos\", \"Tacos\"]\n",
    "        \n",
    "    },\n",
    "        'Alex': {\n",
    "            'hispanic': ['Pupusas', 'Tamales', 'Arepas'],\n",
    "            'italian' : ['Lasagna', 'Spaghetti', 'Pizza'],\n",
    "            'sweets': ['Ice Cream', 'Canolis', 'Souffle']\n",
    "        },\n",
    "       \n",
    "        \"Teddie\": {\n",
    "            \"desserts\": [\"creme brulee\", \"gelato\"],\n",
    "            \"noodles\": [\"ramen\", \"spagetti\"],\n",
    "            \"thai\": [\"moo ping\", \"gung pow\", \"pad thai\"]\n",
    "    },\n",
    "         \"Aften\" : {\n",
    "            \"Cheeses\": [\"Melted\", \"Extra Sharp Cheddar\", \"Halloumi\", \"Goat\"],\n",
    "            \"Pickles\" : [\"Dill\", \"Zesty\", \"Kosher\", \"Fried\"],\n",
    "            \"Breads\" : [\"Gluten Free\", \"Without Gluten\", \"Gluten-less\", \"Sans Gluten\"]\n",
    "    },\n",
    "        'Tarun': {\n",
    "            'desserts': ['Pie', 'cookie dough', 'cupcakes'],\n",
    "            'indian': ['butter chicken', 'paneer bhurji', 'garlic naan'],\n",
    "            'korean': ['bibimbap', 'jjajangmyeon', 'wings']\n",
    "    },\n",
    "        \"Dyonne\": {\n",
    "            \"desserts\": [\"chocolate chip cookies\", \"brownies\", \"ice cream\"],\n",
    "            \"seafood\": [\"crab\", \"shrimp\", \"crawfish\"],\n",
    "            \"beverages\": [\"water\", \"margarita\", \"red wine\"]\n",
    "    },\n",
    "    \"Kelsey\": {\n",
    "        \"noodles\": [\"rigatoni\", \"ramen\", \"tortellini\"],\n",
    "        \"desserts\": [\"chocolate\", \"cookies\", \"ice cream\"],\n",
    "        \"hispanic\": [\"tacos\", \"Enchiladas\"]\n",
    "    },\n",
    "     \"Steve\": {\n",
    "        \"desserts\": [\"anything chocolate\", \"cherry pie\", \"fresh fruit\"],\n",
    "        \"noodles\": [\"ramen\", \"pho\", \"udon\"],\n",
    "        \"hispanic\": [\"tacos\", \"nachos\", \"tostados\"]\n",
    "    },\n",
    "     \"Katie\": {\n",
    "        \"desserts\": [\"chocolate chip cookies\", \"ice cream\", \"cake\"],\n",
    "        \"eggs\": [\"skillet\", \"scrambled\", \"over medium\"],\n",
    "        \"pizza\": [\"margerita\",\"cheese\",\"deep dish\"]\n",
    "        \n",
    "    },\n",
    "      \"Raul\" : {\n",
    "        \"desserts\": [\"Cheesecake\", \"chocolate chip cookies\", \"Ice crem\", ],\n",
    "        \"noodles\": [\"Ramen\", \"Spaguettis\"],\n",
    "        \"Cuban\": [\"Congris\", \"Rosted pork\", \"Fried plantain\"]\n",
    "        \n",
    "    },\n",
    "       \"Kathy\": {\n",
    "        \"desserts\": [\"ice cream\", \"lava cake\", \"donuts\"],\n",
    "        \"asian\": [\"ramen\", \"sushi\", \"kbbq\"],\n",
    "        \"american\": [\"burgers\", \"pizza\", \"buffalo chicken dip\"],\n",
    "    },\n",
    "    \"Perry\": {\n",
    "        \"sweets\": ['bear claw', 'twinkeis', 'red velvet'],\n",
    "        \"assorted\": ['cheeseburgers', 'steak', 'hummus'],\n",
    "        \"asian\": ['tteokbakki', 'larb', 'tofu skins']\n",
    "    },\n",
    "  \"Chris\" : {\n",
    "\t\t\"Noods\": [\"naengmyeon\", \"jjajangmyeon\", \"ramen\", \"udon\"],\n",
    "\t\t\"Indian\": [\"Paneer Makhani\", \"Goat Biryani\", \"Garlic Naan\"],\n",
    "\t\t\"College\": [\"Pizza\", \"Mayo Bread\", \"pork sandwhich\"]\n",
    "\t},\n",
    "     'Cassandra': {\n",
    "        'cheese': ['blue cheese', 'pepperjack', 'smoked gouda'],\n",
    "        'donuts': ['custard filled', 'raspberry filled', 'apple cider'],\n",
    "        'fruits': ['mangos', 'kiwi', 'bananas']\n",
    "    }\n",
    "\n",
    "\n",
    "    \n",
    "}"
   ]
  },
  {
   "cell_type": "code",
   "execution_count": 51,
   "metadata": {
    "scrolled": true
   },
   "outputs": [
    {
     "name": "stdout",
     "output_type": "stream",
     "text": [
      "\n",
      "Here are our favorite foods: \n",
      "\n",
      "desserts\n",
      "noodles\n",
      "hispanic\n",
      "hispanic\n",
      "italian\n",
      "sweets\n",
      "desserts\n",
      "noodles\n",
      "thai\n",
      "Cheeses\n",
      "Pickles\n",
      "Breads\n",
      "desserts\n",
      "indian\n",
      "korean\n",
      "desserts\n",
      "seafood\n",
      "beverages\n",
      "noodles\n",
      "desserts\n",
      "hispanic\n",
      "desserts\n",
      "noodles\n",
      "hispanic\n",
      "desserts\n",
      "eggs\n",
      "pizza\n",
      "desserts\n",
      "noodles\n",
      "Cuban\n",
      "desserts\n",
      "asian\n",
      "american\n",
      "sweets\n",
      "assorted\n",
      "asian\n",
      "Noods\n",
      "Indian\n",
      "College\n",
      "cheese\n",
      "donuts\n",
      "fruits\n"
     ]
    }
   ],
   "source": [
    "# everyone's favorite foods\n",
    "print(\"\\nHere are our favorite foods: \\n\")\n",
    "\n",
    "for name in food_dict.keys():\n",
    "    for food_type in food_dict[name].keys():\n",
    "        print(food_type)"
   ]
  },
  {
   "cell_type": "code",
   "execution_count": 49,
   "metadata": {
    "scrolled": true
   },
   "outputs": [
    {
     "name": "stdout",
     "output_type": "stream",
     "text": [
      "Pie\n",
      "chocolate chip cookes\n",
      "ice cream\n",
      "muffins\n",
      "Ryan {'desserts': ['Pie', 'chocolate chip cookes', 'ice cream', 'muffins'], 'noodles': ['Ramen', 'Pho', 'Shells'], 'hispanic': ['Tacos', 'Tacos', 'Tacos']}\n",
      "Alex {'hispanic': ['Pupusas', 'Tamales', 'Arepas'], 'italian': ['Lasagna', 'Spaghetti', 'Pizza'], 'sweets': ['Ice Cream', 'Canolis', 'Souffle']}\n",
      "Teddie {'desserts': ['creme brulee', 'gelato'], 'noodles': ['ramen', 'spagetti'], 'thai': ['moo ping', 'gung pow', 'pad thai']}\n",
      "Aften {'Cheeses': ['Melted', 'Extra Sharp Cheddar', 'Halloumi', 'Goat'], 'Pickles': ['Dill', 'Zesty', 'Kosher', 'Fried'], 'Breads': ['Gluten Free', 'Without Gluten', 'Gluten-less', 'Sans Gluten']}\n",
      "Tarun {'desserts': ['Pie', 'cookie dough', 'cupcakes'], 'indian': ['butter chicken', 'paneer bhurji', 'garlic naan'], 'korean': ['bibimbap', 'jjajangmyeon', 'wings']}\n",
      "Dyonne {'desserts': ['chocolate chip cookies', 'brownies', 'ice cream'], 'seafood': ['crab', 'shrimp', 'crawfish'], 'beverages': ['water', 'margarita', 'red wine']}\n",
      "Kelsey {'noodles': ['rigatoni', 'ramen', 'tortellini'], 'desserts': ['chocolate', 'cookies', 'ice cream'], 'hispanic': ['tacos', 'Enchiladas']}\n",
      "Steve {'desserts': ['anything chocolate', 'cherry pie', 'fresh fruit'], 'noodles': ['ramen', 'pho', 'udon'], 'hispanic': ['tacos', 'nachos', 'tostados']}\n",
      "Katie {'desserts': ['chocolate chip cookies', 'ice cream', 'cake'], 'eggs': ['skillet', 'scrambled', 'over medium'], 'pizza': ['margerita', 'cheese', 'deep dish']}\n",
      "Raul {'desserts': ['Cheesecake', 'chocolate chip cookies', 'Ice crem'], 'noodles': ['Ramen', 'Spaguettis'], 'Cuban': ['Congris', 'Rosted pork', 'Fried plantain']}\n",
      "Kathy {'desserts': ['ice cream', 'lava cake', 'donuts'], 'asian': ['ramen', 'sushi', 'kbbq'], 'american': ['burgers', 'pizza', 'buffalo chicken dip']}\n",
      "Perry {'sweets': ['bear claw', 'twinkeis', 'red velvet'], 'assorted': ['cheeseburgers', 'steak', 'hummus'], 'asian': ['tteokbakki', 'larb', 'tofu skins']}\n",
      "Chris {'Noods': ['naengmyeon', 'jjajangmyeon', 'ramen', 'udon'], 'Indian': ['Paneer Makhani', 'Goat Biryani', 'Garlic Naan'], 'College': ['Pizza', 'Mayo Bread', 'pork sandwhich']}\n",
      "Cassandra {'cheese': ['blue cheese', 'pepperjack', 'smoked gouda'], 'donuts': ['custard filled', 'raspberry filled', 'apple cider'], 'fruits': ['mangos', 'kiwi', 'bananas']}\n"
     ]
    }
   ],
   "source": [
    "for dessert in food_dict[\"Ryan\"][\"desserts\"]:\n",
    "    print(dessert)\n",
    "    \n",
    "for key, values in food_dict.items():\n",
    "    print(key, values)"
   ]
  },
  {
   "cell_type": "code",
   "execution_count": 52,
   "metadata": {},
   "outputs": [
    {
     "name": "stdout",
     "output_type": "stream",
     "text": [
      "\n",
      "Here are all our foods listed: \n",
      "\n",
      "\n",
      "Ryan's favorite foods are: \n",
      "Pie\n",
      "chocolate chip cookes\n",
      "ice cream\n",
      "muffins\n",
      "Ramen\n",
      "Pho\n",
      "Shells\n",
      "Tacos\n",
      "Tacos\n",
      "Tacos\n",
      "\n",
      "Alex's favorite foods are: \n",
      "Pupusas\n",
      "Tamales\n",
      "Arepas\n",
      "Lasagna\n",
      "Spaghetti\n",
      "Pizza\n",
      "Ice Cream\n",
      "Canolis\n",
      "Souffle\n",
      "\n",
      "Teddie's favorite foods are: \n",
      "creme brulee\n",
      "gelato\n",
      "ramen\n",
      "spagetti\n",
      "moo ping\n",
      "gung pow\n",
      "pad thai\n",
      "\n",
      "Aften's favorite foods are: \n",
      "Melted\n",
      "Extra Sharp Cheddar\n",
      "Halloumi\n",
      "Goat\n",
      "Dill\n",
      "Zesty\n",
      "Kosher\n",
      "Fried\n",
      "Gluten Free\n",
      "Without Gluten\n",
      "Gluten-less\n",
      "Sans Gluten\n",
      "\n",
      "Tarun's favorite foods are: \n",
      "Pie\n",
      "cookie dough\n",
      "cupcakes\n",
      "butter chicken\n",
      "paneer bhurji\n",
      "garlic naan\n",
      "bibimbap\n",
      "jjajangmyeon\n",
      "wings\n",
      "\n",
      "Dyonne's favorite foods are: \n",
      "chocolate chip cookies\n",
      "brownies\n",
      "ice cream\n",
      "crab\n",
      "shrimp\n",
      "crawfish\n",
      "water\n",
      "margarita\n",
      "red wine\n",
      "\n",
      "Kelsey's favorite foods are: \n",
      "rigatoni\n",
      "ramen\n",
      "tortellini\n",
      "chocolate\n",
      "cookies\n",
      "ice cream\n",
      "tacos\n",
      "Enchiladas\n",
      "\n",
      "Steve's favorite foods are: \n",
      "anything chocolate\n",
      "cherry pie\n",
      "fresh fruit\n",
      "ramen\n",
      "pho\n",
      "udon\n",
      "tacos\n",
      "nachos\n",
      "tostados\n",
      "\n",
      "Katie's favorite foods are: \n",
      "chocolate chip cookies\n",
      "ice cream\n",
      "cake\n",
      "skillet\n",
      "scrambled\n",
      "over medium\n",
      "margerita\n",
      "cheese\n",
      "deep dish\n",
      "\n",
      "Raul's favorite foods are: \n",
      "Cheesecake\n",
      "chocolate chip cookies\n",
      "Ice crem\n",
      "Ramen\n",
      "Spaguettis\n",
      "Congris\n",
      "Rosted pork\n",
      "Fried plantain\n",
      "\n",
      "Kathy's favorite foods are: \n",
      "ice cream\n",
      "lava cake\n",
      "donuts\n",
      "ramen\n",
      "sushi\n",
      "kbbq\n",
      "burgers\n",
      "pizza\n",
      "buffalo chicken dip\n",
      "\n",
      "Perry's favorite foods are: \n",
      "bear claw\n",
      "twinkeis\n",
      "red velvet\n",
      "cheeseburgers\n",
      "steak\n",
      "hummus\n",
      "tteokbakki\n",
      "larb\n",
      "tofu skins\n",
      "\n",
      "Chris's favorite foods are: \n",
      "naengmyeon\n",
      "jjajangmyeon\n",
      "ramen\n",
      "udon\n",
      "Paneer Makhani\n",
      "Goat Biryani\n",
      "Garlic Naan\n",
      "Pizza\n",
      "Mayo Bread\n",
      "pork sandwhich\n",
      "\n",
      "Cassandra's favorite foods are: \n",
      "blue cheese\n",
      "pepperjack\n",
      "smoked gouda\n",
      "custard filled\n",
      "raspberry filled\n",
      "apple cider\n",
      "mangos\n",
      "kiwi\n",
      "bananas\n"
     ]
    }
   ],
   "source": [
    "# print all foods\n",
    "print(\"\\nHere are all our foods listed: \\n\")\n",
    "for name in food_dict.keys():\n",
    "    print(f\"\\n{name}'s favorite foods are: \")\n",
    "    for food_type in food_dict[name].keys():\n",
    "        for food in food_dict[name][food_type]:\n",
    "            print(food)"
   ]
  },
  {
   "cell_type": "markdown",
   "metadata": {},
   "source": [
    "## Dictionaries vs. Lists (over time) Example of RUNTIME\n",
    "### When inputting values in a Dictionary vs List"
   ]
  },
  {
   "cell_type": "code",
   "execution_count": 77,
   "metadata": {},
   "outputs": [],
   "source": [
    "import time\n",
    "\n",
    "d = {}\n",
    "\n",
    "for i in range(10000000):\n",
    "    d[i] = \"value \" + str(i)\n",
    "    \n",
    "#generate a list\n",
    "big_list = [x for x in range(10000000)]\n"
   ]
  },
  {
   "cell_type": "code",
   "execution_count": 80,
   "metadata": {},
   "outputs": [
    {
     "name": "stdout",
     "output_type": "stream",
     "text": [
      "value 9999999\n",
      "Elapsed Time for dictionary: 0.0\n",
      "9999999\n",
      "elapsed Time for list: 0.9319820404052734\n"
     ]
    }
   ],
   "source": [
    "start_time = time.time()\n",
    "print(d[9999999])\n",
    "end_time = time.time() - start_time\n",
    "print(f\"Elapsed Time for dictionary: {end_time}\")\n",
    "\n",
    "start_time = time.time()\n",
    "\n",
    "for i in range(len(big_list)):\n",
    "    if i == 9999999:\n",
    "        print(i)\n",
    "        \n",
    "end_time = time.time() - start_time\n",
    "print(f\"elapsed Time for list: {end_time}\")"
   ]
  },
  {
   "cell_type": "markdown",
   "metadata": {},
   "source": [
    "## Exercise #3 - Write a Function that asks someone's name and address, and then stores that into a dictionary, and continues to do so until they choose to 'quit'. Once they quit, the program should print all names and addresses. <br>\n",
    "<p>\n",
    "<b>Proper steps:</b><br>\n",
    "step 1: write a function that takes in information and stores it in a dictionary<br>\n",
    "step 2: define an empty dictionary to work with<br>\n",
    "step 3: create our loop, which asks the user for information until they quit<br>\n",
    "step 4: ask for the information, and store it into variables<br>\n",
    "step 5: check if the user types quit<br>\n",
    "step 5a: print out all information<br>\n",
    "step 5b: break out of the loop<br>\n",
    "step 6: if they didn't quit, add the information to the dictionary<br>\n",
    "step 7: invoke the function by calling it\n",
    "</p>"
   ]
  },
  {
   "cell_type": "code",
   "execution_count": 86,
   "metadata": {},
   "outputs": [
    {
     "name": "stdout",
     "output_type": "stream",
     "text": [
      "Enter a name or say 'quit' to quit: quit\n",
      "The address for tyler is hello street\n"
     ]
    }
   ],
   "source": [
    "from IPython.display import clear_output\n",
    "\n",
    "# Step 1\n",
    "def storeInfo():\n",
    "    d = {}\n",
    "    \n",
    "    while True:\n",
    "        name = input(\"Enter a name or say 'quit' to quit: \")\n",
    "        if name.lower().strip() != \"quit\":\n",
    "            address = input(\"Enter an address or say 'quit' to quit: \")\n",
    "            clear_output()\n",
    "            \n",
    "        if name.lower().strip() == \"quit\" or address.lower().strip() == \"quit\":\n",
    "            for name, address in d.items():\n",
    "                print(f\"The address for {name} is {address}\")\n",
    "                \n",
    "            break\n",
    "            \n",
    "        d[name] = address\n",
    "        \n",
    "storeInfo()"
   ]
  },
  {
   "cell_type": "markdown",
   "metadata": {},
   "source": [
    "## Set <br>\n",
    "<p>A Set is an unordered collection data type that is iterable (loop), mutable, and has no duplicate elements.<br>Major advantage is that it is highly optimized in checking if something is in the set, as opposed to checking if something is in a list.</p>"
   ]
  },
  {
   "cell_type": "markdown",
   "metadata": {},
   "source": [
    "##### Declaring"
   ]
  },
  {
   "cell_type": "code",
   "execution_count": 94,
   "metadata": {},
   "outputs": [
    {
     "name": "stdout",
     "output_type": "stream",
     "text": [
      "{8, 1, 4}\n",
      "3\n",
      "['__and__', '__class__', '__class_getitem__', '__contains__', '__delattr__', '__dir__', '__doc__', '__eq__', '__format__', '__ge__', '__getattribute__', '__gt__', '__hash__', '__iand__', '__init__', '__init_subclass__', '__ior__', '__isub__', '__iter__', '__ixor__', '__le__', '__len__', '__lt__', '__ne__', '__new__', '__or__', '__rand__', '__reduce__', '__reduce_ex__', '__repr__', '__ror__', '__rsub__', '__rxor__', '__setattr__', '__sizeof__', '__str__', '__sub__', '__subclasshook__', '__xor__', 'add', 'clear', 'copy', 'difference', 'difference_update', 'discard', 'intersection', 'intersection_update', 'isdisjoint', 'issubset', 'issuperset', 'pop', 'remove', 'symmetric_difference', 'symmetric_difference_update', 'union', 'update']\n"
     ]
    }
   ],
   "source": [
    "# set() or {}\n",
    "# no order {3, 2, 1} outputs as {1, 2, 3}\n",
    "\n",
    "our_set = set()\n",
    "\n",
    "nums = {4, 1, 8, 4}\n",
    "\n",
    "print(nums)\n",
    "print(len(nums))\n",
    "print(dir(nums))"
   ]
  },
  {
   "cell_type": "markdown",
   "metadata": {},
   "source": [
    "##### .add()"
   ]
  },
  {
   "cell_type": "code",
   "execution_count": 95,
   "metadata": {},
   "outputs": [
    {
     "name": "stdout",
     "output_type": "stream",
     "text": [
      "{8, 1, 4, 22}\n"
     ]
    }
   ],
   "source": [
    "# set.add()\n",
    "nums.add(22)\n",
    "nums.add(22)\n",
    "print(nums)"
   ]
  },
  {
   "cell_type": "markdown",
   "metadata": {},
   "source": [
    "##### .remove()"
   ]
  },
  {
   "cell_type": "code",
   "execution_count": 96,
   "metadata": {},
   "outputs": [
    {
     "name": "stdout",
     "output_type": "stream",
     "text": [
      "{8, 1, 4}\n"
     ]
    }
   ],
   "source": [
    "# removes by value\n",
    "# set.remove()\n",
    "# nums.remove(56)\n",
    "nums.remove(22)\n",
    "print(nums)"
   ]
  },
  {
   "cell_type": "markdown",
   "metadata": {},
   "source": [
    "##### .union() "
   ]
  },
  {
   "cell_type": "code",
   "execution_count": 97,
   "metadata": {},
   "outputs": [
    {
     "name": "stdout",
     "output_type": "stream",
     "text": [
      "{1, 2, 3, 4, 5, 6}\n",
      "{1, 2, 3, 4, 5, 6}\n"
     ]
    }
   ],
   "source": [
    "# Returns a union of two sets, can also use '|' or set.union(set)\n",
    "# joins all numbers, gets rid of duplicates\n",
    "\n",
    "s1 = {1, 2, 3, 4}\n",
    "s2 = {3, 4, 5, 6}\n",
    "\n",
    "s3 = s1.union(s2)\n",
    "\n",
    "s4 = s2 | s1\n",
    "\n",
    "print(s3)\n",
    "print(s4)"
   ]
  },
  {
   "cell_type": "markdown",
   "metadata": {},
   "source": [
    "##### .intersection()"
   ]
  },
  {
   "cell_type": "code",
   "execution_count": 98,
   "metadata": {},
   "outputs": [
    {
     "name": "stdout",
     "output_type": "stream",
     "text": [
      "{3, 4}\n",
      "{3, 4}\n"
     ]
    }
   ],
   "source": [
    "# Returns an intersection of two sets, can also use '&'\n",
    "# only takes similar elements from both sets\n",
    "\n",
    "s1 = {1, 2, 3, 4}\n",
    "s2 = {3, 4, 5, 6}\n",
    "\n",
    "s5 = s1.intersection(s2)\n",
    "\n",
    "s6 = s2 & s1\n",
    "\n",
    "print(s5)\n",
    "print(s6)\n"
   ]
  },
  {
   "cell_type": "markdown",
   "metadata": {},
   "source": [
    "##### .difference()"
   ]
  },
  {
   "cell_type": "code",
   "execution_count": 99,
   "metadata": {},
   "outputs": [
    {
     "name": "stdout",
     "output_type": "stream",
     "text": [
      "{1, 2}\n",
      "{5, 6}\n"
     ]
    }
   ],
   "source": [
    "# Returns a set containing all the elements of invoking set that are not in the second set, can also use '-'\n",
    "# only takes values from the first set that are not in the second set\n",
    "# order matters\n",
    "\n",
    "s1 = {1, 2, 3, 4}\n",
    "s2 = {3, 4, 5, 6}\n",
    "\n",
    "s7 = s1 - s2\n",
    "\n",
    "s8 = s2.difference(s1)\n",
    "\n",
    "print(s7)\n",
    "print(s8)"
   ]
  },
  {
   "cell_type": "markdown",
   "metadata": {},
   "source": [
    "##### .clear()"
   ]
  },
  {
   "cell_type": "code",
   "execution_count": null,
   "metadata": {},
   "outputs": [],
   "source": [
    "# Empties the whole set\n",
    "# set.clear()\n"
   ]
  },
  {
   "cell_type": "code",
   "execution_count": null,
   "metadata": {},
   "outputs": [],
   "source": []
  },
  {
   "cell_type": "markdown",
   "metadata": {},
   "source": [
    "##### Frozenset <br>\n",
    "<p>Frozen sets are immutable objects that only support methods and operators that produce a result without affecting the frozen set or sets to which they are applied.</p><br><b>Unique & Immutable</b>"
   ]
  },
  {
   "cell_type": "code",
   "execution_count": null,
   "metadata": {},
   "outputs": [],
   "source": [
    "# frozenset([])\n"
   ]
  },
  {
   "cell_type": "markdown",
   "metadata": {},
   "source": [
    "## Modules"
   ]
  },
  {
   "cell_type": "markdown",
   "metadata": {},
   "source": [
    "##### Importing Entire Modules"
   ]
  },
  {
   "cell_type": "code",
   "execution_count": null,
   "metadata": {},
   "outputs": [],
   "source": [
    "# import \n",
    "# or \n",
    "# from 'xxx' import *\n"
   ]
  },
  {
   "cell_type": "markdown",
   "metadata": {},
   "source": [
    "##### Importing Methods Only"
   ]
  },
  {
   "cell_type": "code",
   "execution_count": null,
   "metadata": {},
   "outputs": [],
   "source": [
    "# from 'xxx' import 'xxx'\n",
    "# from math import floor\n",
    "\n"
   ]
  },
  {
   "cell_type": "markdown",
   "metadata": {},
   "source": [
    "##### Using the 'as' Keyword"
   ]
  },
  {
   "cell_type": "code",
   "execution_count": null,
   "metadata": {},
   "outputs": [],
   "source": [
    "# from 'xxx' import 'xxx' as 'xxx' or import 'xxx' as 'xxx'\n",
    "# from math import floor as f\n",
    "\n"
   ]
  },
  {
   "cell_type": "markdown",
   "metadata": {},
   "source": [
    "##### Creating a Module"
   ]
  },
  {
   "cell_type": "code",
   "execution_count": null,
   "metadata": {},
   "outputs": [],
   "source": [
    "from module import printName as pn\n",
    "\n"
   ]
  },
  {
   "cell_type": "markdown",
   "metadata": {},
   "source": [
    "# Exercises"
   ]
  },
  {
   "cell_type": "markdown",
   "metadata": {},
   "source": [
    "### 1) Build a Shopping Cart <br>\n",
    "<p><b>You can use either lists or dictionaries. The program should have the following capabilities:</b><br><br>\n",
    "1) Takes in input <br>\n",
    "2) Stores user input into a dictionary or list <br>\n",
    "3) The User can add or delete items <br>\n",
    "4) The User can see current shopping list <br>\n",
    "5) The program Loops until user 'quits' <br>\n",
    "6) Upon quiting the program, print out all items in the user's list <br>\n",
    "</p>"
   ]
  },
  {
   "cell_type": "code",
   "execution_count": 87,
   "metadata": {},
   "outputs": [
    {
     "name": "stdout",
     "output_type": "stream",
     "text": [
      "Do you want to: Show/Add/Delete/Quit? add\n",
      "What item would you like to add to your shopping list? chicken\n",
      "Do you want to: Show/Add/Delete/Quit? add\n",
      "What item would you like to add to your shopping list? chips\n",
      "Do you want to: Show/Add/Delete/Quit? add\n",
      "What item would you like to add to your shopping list? sushi\n",
      "Do you want to: Show/Add/Delete/Quit? quit\n",
      "Here is your shopping list: ['chicken', 'chips', 'sushi']\n"
     ]
    }
   ],
   "source": [
    "from IPython.display import clear_output\n",
    "\n",
    "# Ask the user four bits of input: Do you want to : Show/Add/Delete or Quit?\n",
    "\n",
    "shopping_list = []\n",
    "active = True\n",
    "while active:\n",
    "    action = input(\"Do you want to: Show/Add/Delete/Quit? \")\n",
    "    if action.title() == \"Show\":\n",
    "        print(shopping_list)\n",
    "    elif action.title() == \"Add\":\n",
    "        item = input(\"What item would you like to add to your shopping list? \")\n",
    "        shopping_list.append(item)\n",
    "    elif action.title() == \"Delete\":\n",
    "        getout = input(\"What item would you like to delete from your shopping list? \")\n",
    "        shopping_list.remove(getout)\n",
    "    elif action.title() == \"Quit\":\n",
    "        active = False\n",
    "        print(f\"Here is your shopping list: {shopping_list}\")\n",
    "    "
   ]
  },
  {
   "cell_type": "markdown",
   "metadata": {},
   "source": [
    "### 2) Create a Module in VS Code and Import It into jupyter notebook <br>\n",
    "<p><b>Module should have the following capabilities:</b><br><br>\n",
    "1) Has a function to calculate the square footage of a house <br>\n",
    "    <b>Reminder of Formula: Length X Width == Area<br>\n",
    "        <hr>\n",
    "2) Has a function to calculate the circumference of a circle <br><br>\n",
    "<b>Program in Jupyter Notebook should take in user input and use imported functions to calculate a circle's circumference or a houses square footage</b>\n",
    "</p>"
   ]
  },
  {
   "cell_type": "code",
   "execution_count": 23,
   "metadata": {},
   "outputs": [
    {
     "data": {
      "text/plain": [
       "'The circumference of the circle is 25.132741228718345.'"
      ]
     },
     "execution_count": 23,
     "metadata": {},
     "output_type": "execute_result"
    }
   ],
   "source": [
    "from day_3_exercise_2 import sqft\n",
    "from day_3_exercise_2 import circumference\n",
    "\n",
    "sqft(3, 5)\n",
    "circumference(4)"
   ]
  }
 ],
 "metadata": {
  "kernelspec": {
   "display_name": "Python 3 (ipykernel)",
   "language": "python",
   "name": "python3"
  },
  "language_info": {
   "codemirror_mode": {
    "name": "ipython",
    "version": 3
   },
   "file_extension": ".py",
   "mimetype": "text/x-python",
   "name": "python",
   "nbconvert_exporter": "python",
   "pygments_lexer": "ipython3",
   "version": "3.9.12"
  },
  "vscode": {
   "interpreter": {
    "hash": "cd7c3c301a703f4a40be2828c786ce03625a63e7261e664532434707de2bcfad"
   }
  }
 },
 "nbformat": 4,
 "nbformat_minor": 2
}
